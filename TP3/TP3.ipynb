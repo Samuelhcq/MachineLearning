{
 "cells": [
  {
   "cell_type": "markdown",
   "id": "4d7d4e89-e12c-4279-80e8-f72739e47cef",
   "metadata": {},
   "source": [
    "# TP3 - Classification de chiffres 8*8\n",
    "1. Charger le dataset \"digits_train.csv\" disponible sur Moodle dans un dataframe. Les chiffres\n",
    "(8,8) sont encodés en ligne avec 64 valeurs et les labels sont donnés sur la dernière colonne.\n",
    "2. Quelle est la dimension d pour ce problème ? Combien y a-t-il de classes différentes à prédire\n",
    "dans ce problème ?\n",
    "3. Afficher le premier chiffre de la base après un redimensionnement. Pour l’affichage, on pourra\n",
    "utiliser la fonction imshow du module matplotlib.pyplot avec l’option cmap=gray_r pour\n",
    "afficher des nuances de gris."
   ]
  },
  {
   "cell_type": "code",
   "execution_count": 259,
   "id": "6bf50940-5799-434b-8801-25a9107bee79",
   "metadata": {},
   "outputs": [
    {
     "name": "stdout",
     "output_type": "stream",
     "text": [
      "train_data.shape\n",
      "(1438, 65)\n"
     ]
    },
    {
     "data": {
      "image/png": "[encoded data removed]",
      "text/plain": [
       "<Figure size 640x480 with 1 Axes>"
      ]
     },
     "metadata": {},
     "output_type": "display_data"
    }
   ],
   "source": [
    "import pandas as pd\n",
    "import numpy as np\n",
    "import matplotlib.pyplot as plt\n",
    "from tqdm import tqdm\n",
    "\n",
    "train_data = np.loadtxt(\"digits_train.csv\",delimiter=',')\n",
    "print(\"train_data.shape\")\n",
    "print(train_data.shape)\n",
    "\n",
    "#La dimension d est 8*8=64 et il y-a 10 classes à prédire {0,1,2,3,4,5,6,7,8,9}\n",
    "plt.imshow(np.reshape(train_data[0,:-1],(8,8)),cmap=\"gray_r\")\n",
    "plt.show()\n",
    "\n",
    "indices = np.random.permutation(train_data.shape[0])\n",
    "\n",
    "idx_train, idx_valid = indices[:int(train_data.shape[0]*0.6)], indices[int(train_data.shape[0]*0.6):]\n",
    "number_train = train_data[idx_train]\n",
    "number_valid = train_data[idx_valid]\n",
    "X_train = number_train[:,:-1]\n",
    "Y_train = number_train[:,-1]\n",
    "X_valid = number_valid[:,:-1]\n",
    "Y_valid = number_valid[:,-1]"
   ]
  },
  {
   "cell_type": "markdown",
   "id": "dff1e1bb-88db-4c4f-bd2d-48b1460ba95e",
   "metadata": {},
   "source": [
    "5. Implémenter l’algorithme des k plus proches voisins pour ce problème."
   ]
  },
  {
   "cell_type": "code",
   "execution_count": 248,
   "id": "fa36d81a-1cef-41da-9f76-69aee6c7a2e1",
   "metadata": {},
   "outputs": [],
   "source": [
    "def euclidian_distance(v1,v2):\n",
    "\n",
    "    distance = 0\n",
    "    for i in range(v1.shape[0]):\n",
    "        distance += (v1[i] - v2[i])**2\n",
    "\n",
    "    return np.sqrt(distance)\n",
    "\n",
    "# Fonction qui sélectionne les k plus proches voisins du point x_test dans l'ensemble des points contenus dans X_train.\n",
    "def neighbors(X_train, y_label, x_test, k):\n",
    "\n",
    "    list_distances =  []\n",
    "\n",
    "    ## On calcule toute les distances entre x_test et chaque point de X_train.\n",
    "    for i in range(X_train.shape[0]):\n",
    "        distance = euclidian_distance(X_train[i], x_test)\n",
    "        list_distances.append(distance)\n",
    "\n",
    "    ## On trie les poinds de X_train par ordre croissant de distance et on renvoie le dataframe qui contient les k plus proches voisins.\n",
    "    df = pd.DataFrame()\n",
    "    df[\"label\"] = y_label\n",
    "    df[\"distance\"] = list_distances\n",
    "    df = df.sort_values(by=\"distance\")\n",
    "\n",
    "    return df.iloc[:k,:]\n",
    "\n",
    "def prediction(neighbors):\n",
    "    return neighbors[\"label\"].mode()[0]"
   ]
  },
  {
   "cell_type": "code",
   "execution_count": 252,
   "id": "eee3f829-acfd-4cf0-b2da-fec697c59f19",
   "metadata": {},
   "outputs": [
    {
     "name": "stdout",
     "output_type": "stream",
     "text": [
      "     label   distance\n",
      "295    1.0  10.440307\n",
      "606    1.0  12.845233\n",
      "680    1.0  13.000000\n",
      "560    1.0  13.416408\n",
      "569    1.0  14.177447\n",
      "1.0\n"
     ]
    }
   ],
   "source": [
    "# Pour le premier point de l'ensemble de validation, affichage de ses 5 plus proches voisins de l'ensemble d'entraînement.\n",
    "nearest_neighbors = neighbors(X_train, Y_train, X_valid[0], 5)\n",
    "print(nearest_neighbors)\n",
    "\n",
    "## Fonction \"prediction\" qui prend en entrée un dataframe contenant les plus proches voisins d'un point avec leur classe\n",
    "# (obtenu par la méthode neighbors) et qui renvoie la classe prédite pour ce point.\n",
    "print(prediction(nearest_neighbors))"
   ]
  },
  {
   "cell_type": "markdown",
   "id": "787dfaa5-71aa-4434-b8a6-22f7999c43b0",
   "metadata": {},
   "source": [
    "6. Régler la valeur du paramètre k sur l’ensemble de validation."
   ]
  },
  {
   "cell_type": "code",
   "execution_count": 286,
   "id": "6848cd0e-4380-411f-837c-5e228b288753",
   "metadata": {},
   "outputs": [
    {
     "name": "stdout",
     "output_type": "stream",
     "text": [
      "Accuracy:0.9722222222222222\n"
     ]
    },
    {
     "data": {
      "text/plain": [
       "0.9722222222222222"
      ]
     },
     "execution_count": 286,
     "metadata": {},
     "output_type": "execute_result"
    }
   ],
   "source": [
    "def evaluation(X_train, Y_train, X_valid, Y_valid, k, verbose=True):\n",
    "    TP = 0 \n",
    "    total = 0\n",
    "    for i in range(X_valid.shape[0]):\n",
    "        nearest_neighbors = neighbors(X_train, Y_train, X_valid[i], k)\n",
    "        if ((prediction(nearest_neighbors) == Y_valid[i])):\n",
    "            TP += 1\n",
    "        total += 1\n",
    "    accuracy = TP/ total\n",
    "    print(\"Accuracy:\" + str(accuracy))\n",
    "    return accuracy\n",
    "evaluation(X_train, Y_train, X_valid, Y_valid, 15)"
   ]
  },
  {
   "cell_type": "code",
   "execution_count": 290,
   "id": "ed9110e1-43c9-47a2-9b51-f402e34a6f87",
   "metadata": {},
   "outputs": [
    {
     "name": "stderr",
     "output_type": "stream",
     "text": [
      " 11%|█████                                        | 1/9 [00:10<01:22, 10.36s/it]"
     ]
    },
    {
     "name": "stdout",
     "output_type": "stream",
     "text": [
      "Accuracy:0.9895833333333334\n"
     ]
    },
    {
     "name": "stderr",
     "output_type": "stream",
     "text": [
      " 22%|██████████                                   | 2/9 [00:20<01:12, 10.31s/it]"
     ]
    },
    {
     "name": "stdout",
     "output_type": "stream",
     "text": [
      "Accuracy:0.9826388888888888\n"
     ]
    },
    {
     "name": "stderr",
     "output_type": "stream",
     "text": [
      " 33%|███████████████                              | 3/9 [00:30<01:01, 10.27s/it]"
     ]
    },
    {
     "name": "stdout",
     "output_type": "stream",
     "text": [
      "Accuracy:0.9774305555555556\n"
     ]
    },
    {
     "name": "stderr",
     "output_type": "stream",
     "text": [
      " 44%|████████████████████                         | 4/9 [00:41<00:51, 10.27s/it]"
     ]
    },
    {
     "name": "stdout",
     "output_type": "stream",
     "text": [
      "Accuracy:0.9774305555555556\n"
     ]
    },
    {
     "name": "stderr",
     "output_type": "stream",
     "text": [
      " 56%|█████████████████████████                    | 5/9 [00:51<00:41, 10.27s/it]"
     ]
    },
    {
     "name": "stdout",
     "output_type": "stream",
     "text": [
      "Accuracy:0.9774305555555556\n"
     ]
    },
    {
     "name": "stderr",
     "output_type": "stream",
     "text": [
      " 67%|██████████████████████████████               | 6/9 [01:01<00:30, 10.29s/it]"
     ]
    },
    {
     "name": "stdout",
     "output_type": "stream",
     "text": [
      "Accuracy:0.9739583333333334\n"
     ]
    },
    {
     "name": "stderr",
     "output_type": "stream",
     "text": [
      " 78%|███████████████████████████████████          | 7/9 [01:12<00:20, 10.40s/it]"
     ]
    },
    {
     "name": "stdout",
     "output_type": "stream",
     "text": [
      "Accuracy:0.9774305555555556\n"
     ]
    },
    {
     "name": "stderr",
     "output_type": "stream",
     "text": [
      " 89%|████████████████████████████████████████     | 8/9 [01:22<00:10, 10.37s/it]"
     ]
    },
    {
     "name": "stdout",
     "output_type": "stream",
     "text": [
      "Accuracy:0.9722222222222222\n"
     ]
    },
    {
     "name": "stderr",
     "output_type": "stream",
     "text": [
      "100%|█████████████████████████████████████████████| 9/9 [01:33<00:00, 10.34s/it]"
     ]
    },
    {
     "name": "stdout",
     "output_type": "stream",
     "text": [
      "Accuracy:0.9704861111111112\n",
      "[0.9895833333333334, 0.9826388888888888, 0.9774305555555556, 0.9774305555555556, 0.9774305555555556, 0.9739583333333334, 0.9774305555555556, 0.9722222222222222, 0.9704861111111112]\n"
     ]
    },
    {
     "name": "stderr",
     "output_type": "stream",
     "text": [
      "\n",
      "/tmp/ipykernel_3384/2829133687.py:19: UserWarning: No artists with labels found to put in legend.  Note that artists whose label start with an underscore are ignored when legend() is called with no argument.\n",
      "  plt.legend()\n"
     ]
    },
    {
     "data": {
      "image/png": "[encoded data removed]",
      "text/plain": [
       "<Figure size 640x480 with 1 Axes>"
      ]
     },
     "metadata": {},
     "output_type": "display_data"
    }
   ],
   "source": [
    "list_accuracy = []\n",
    "\n",
    "for k in tqdm(range(1,19,2)):\n",
    "    list_accuracy.append(evaluation(X_train, Y_train, X_valid, Y_valid, k, verbose=False))\n",
    "\n",
    "print(list_accuracy)\n",
    "\n",
    "x=range(1,19,2)\n",
    "y=list_accuracy\n",
    "\n",
    "plt.plot(x,y)\n",
    "plt.xlabel(\"k\")\n",
    "plt.ylabel(\"accuracy\")\n",
    "plt.ylim(0,1)\n",
    "plt.legend()\n",
    "plt.show()"
   ]
  },
  {
   "cell_type": "code",
   "execution_count": 300,
   "id": "b1cfbfc1-b95b-4817-aee9-e7205623071e",
   "metadata": {},
   "outputs": [
    {
     "name": "stdout",
     "output_type": "stream",
     "text": [
      "(359, 64)\n",
      "(359,)\n"
     ]
    }
   ],
   "source": [
    "test_data = np.loadtxt(\"digits_entries_test.csv\",delimiter=',')\n",
    "target_data = np.loadtxt(\"digits_target_test.csv\",delimiter=',')\n",
    "print(test_data.shape)\n",
    "print(target_data.shape)"
   ]
  },
  {
   "cell_type": "code",
   "execution_count": null,
   "id": "5eb980eb-ed22-4acf-a310-ea33770b1978",
   "metadata": {},
   "outputs": [],
   "source": []
  }
 ],
 "metadata": {
  "kernelspec": {
   "display_name": "Python [conda env:base] *",
   "language": "python",
   "name": "conda-base-py"
  },
  "language_info": {
   "codemirror_mode": {
    "name": "ipython",
    "version": 3
   },
   "file_extension": ".py",
   "mimetype": "text/x-python",
   "name": "python",
   "nbconvert_exporter": "python",
   "pygments_lexer": "ipython3",
   "version": "3.12.7"
  }
 },
 "nbformat": 4,
 "nbformat_minor": 5
}
