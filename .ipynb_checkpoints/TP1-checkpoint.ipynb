{
 "cells": [
  {
   "cell_type": "code",
   "execution_count": 95,
   "id": "eef3d740-7596-467f-8e16-476eb865410a",
   "metadata": {
    "scrolled": true
   },
   "outputs": [],
   "source": [
    "liste1 = [i for i in range(1,100)]\n",
    "#print(liste1)\n",
    "liste2 = [i for i in range(100,200)]\n",
    "#print(liste2)\n",
    "liste1 += liste2\n",
    "#print(liste1)\n",
    "liste3 = [i for i in range(0,101,2)]\n",
    "#print(liste3)\n",
    "liste3 = [i for i in liste3 if i%10!=0]\n",
    "#print(liste3)\n",
    "#print(len(liste3))\n",
    "#print([i for i in liste3 if i % 8 == 0])\n",
    "#print (liste3[:20])\n",
    "#print(liste3[-10:])\n",
    "liste4 = [i for i in range(0,51) if i%2==0]\n",
    "#print(liste4)\n",
    "listWords = [\"hello\", \"the\", \"world\", \"apple\", \"tree\", \"lemon\"]\n",
    "listWords5 = [w for w in listWords if len(w)<5]\n",
    "#print(listWords5)\n",
    "liste5 = [0, 1]\n",
    "for k in range(2, 20):\n",
    "    liste5.append(liste5[k-1] + liste5[k-2])\n",
    "#print(liste5)\n",
    "liste6=[1,2,3]\n",
    "liste6bis = liste6.copy()\n",
    "liste6bis.append(1)\n",
    "#print(liste6)\n",
    "#print(liste6bis)"
   ]
  },
  {
   "cell_type": "code",
   "execution_count": 101,
   "id": "7c5992fb-423e-40ab-bb7d-1d799ef936f6",
   "metadata": {},
   "outputs": [
    {
     "name": "stdout",
     "output_type": "stream",
     "text": [
      "[1. 1. 1. 1. 1. 1. 1. 1. 1. 1.]\n"
     ]
    }
   ],
   "source": [
    "import numpy as np\n",
    "tab1 = np.zeros(10)\n",
    "#print(tab1)\n",
    "tab2 = np.ones(10)\n",
    "#print(tab2)\n"
   ]
  },
  {
   "cell_type": "code",
   "execution_count": null,
   "id": "59e97720-a52a-401c-973b-4a230b2a2de2",
   "metadata": {},
   "outputs": [],
   "source": []
  }
 ],
 "metadata": {
  "kernelspec": {
   "display_name": "Python [conda env:base] *",
   "language": "python",
   "name": "conda-base-py"
  },
  "language_info": {
   "codemirror_mode": {
    "name": "ipython",
    "version": 3
   },
   "file_extension": ".py",
   "mimetype": "text/x-python",
   "name": "python",
   "nbconvert_exporter": "python",
   "pygments_lexer": "ipython3",
   "version": "3.12.7"
  }
 },
 "nbformat": 4,
 "nbformat_minor": 5
}
